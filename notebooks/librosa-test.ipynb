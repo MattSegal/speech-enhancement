{
 "cells": [
  {
   "cell_type": "code",
   "execution_count": 2,
   "metadata": {},
   "outputs": [],
   "source": [
    "from src.datasets import NoisySpeechDataset"
   ]
  },
  {
   "cell_type": "code",
   "execution_count": 3,
   "metadata": {},
   "outputs": [],
   "source": [
    "dataset = NoisySpeechDataset(train=False, quiet=True)"
   ]
  },
  {
   "cell_type": "code",
   "execution_count": 4,
   "metadata": {},
   "outputs": [],
   "source": [
    "noisy_t, clean_t = dataset[0]\n",
    "noisy_arr = noisy_t.detach().numpy()\n",
    "clean_arr = clean_t.detach().numpy()"
   ]
  },
  {
   "cell_type": "code",
   "execution_count": 19,
   "metadata": {},
   "outputs": [
    {
     "name": "stdout",
     "output_type": "stream",
     "text": [
      "[  0.    31.25  62.5   93.75 125.  ] [7875.   7906.25 7937.5  7968.75]\n",
      "[0.    0.016 0.032 0.048 0.064] [1.984 2.    2.016 2.032]\n",
      "(257, 129)\n"
     ]
    }
   ],
   "source": [
    "# Original scipy base method\n",
    "import numpy as np\n",
    "from scipy import signal\n",
    "\n",
    "SAMPLING_RATE = 16000\n",
    "SAMPLES_PER_SEGMENT = 512\n",
    "\n",
    "\n",
    "freqs, times, spectral_frames = signal.stft(\n",
    "    noisy_arr,\n",
    "    fs=SAMPLING_RATE,\n",
    "    nperseg=SAMPLES_PER_SEGMENT\n",
    ")\n",
    "print(freqs[0:5], freqs[-5:-1])\n",
    "print(times[0:5], times[-5:-1])\n",
    "print(spectral_frames.shape)"
   ]
  },
  {
   "cell_type": "code",
   "execution_count": 23,
   "metadata": {},
   "outputs": [],
   "source": [
    "# Librosa method\n",
    "from librosa.core import stft\n",
    "\n",
    "SAMPLE_RATE = 16000\n",
    "HOP_MS = 16\n",
    "WIN_MS = 64\n",
    "\n",
    "def ms_to_steps(ms):\n",
    "    return int((1e-3 * ms) * SAMPLE_RATE)\n",
    "\n",
    "\n",
    "coeffs = stft(\n",
    "    noisy_arr,\n",
    "    n_fft=ms_to_steps(WIN_MS),\n",
    "    hop_length=ms_to_steps(HOP_MS),\n",
    "    win_length=ms_to_steps(WIN_MS),\n",
    "    window='hann',\n",
    ")"
   ]
  },
  {
   "cell_type": "code",
   "execution_count": 24,
   "metadata": {},
   "outputs": [
    {
     "data": {
      "text/plain": [
       "(513, 129)"
      ]
     },
     "execution_count": 24,
     "metadata": {},
     "output_type": "execute_result"
    }
   ],
   "source": [
    "coeffs.shape"
   ]
  },
  {
   "cell_type": "code",
   "execution_count": 25,
   "metadata": {},
   "outputs": [
    {
     "data": {
      "text/plain": [
       "array([[-3.8170463e-01+0.0000000e+00j,  5.8743566e-01+0.0000000e+00j,\n",
       "         1.0969898e+00+0.0000000e+00j, ...,\n",
       "        -4.4178982e+00+0.0000000e+00j, -6.0868096e-01+0.0000000e+00j,\n",
       "         1.6001073e+00+0.0000000e+00j],\n",
       "       [ 5.4170847e-01-1.6696713e-17j, -3.2782310e-01+1.0085300e+00j,\n",
       "        -1.0631933e+00-4.7694153e-01j, ...,\n",
       "         2.8235607e+00+1.5835314e+00j,  8.1642896e-02+2.1850958e+00j,\n",
       "        -1.7461599e+00-1.1610535e-02j],\n",
       "       [ 6.6638374e-01+2.7105054e-17j, -4.1649649e-01-1.6669800e+00j,\n",
       "        -3.0108503e-01+9.2678517e-01j, ...,\n",
       "        -2.3111209e-01-4.8843044e-01j,  2.3051031e-01-9.1283572e-01j,\n",
       "         9.3570346e-01+5.6139571e-03j],\n",
       "       ...,\n",
       "       [ 2.4495318e-03+7.5894152e-18j, -1.2216974e-03-8.0257587e-07j,\n",
       "        -4.7389676e-06-1.2796473e-07j, ...,\n",
       "        -7.9117831e-07-1.8381310e-07j, -1.4918080e-03+1.5368349e-05j,\n",
       "         2.9675795e-03-3.6469399e-05j],\n",
       "       [-2.4633657e-03+9.7578196e-18j,  5.5223713e-06+1.2294801e-03j,\n",
       "        -4.4301228e-06-6.9266645e-07j, ...,\n",
       "        -7.2217034e-07-1.9559553e-07j, -8.1419075e-06-1.4901380e-03j,\n",
       "        -2.9612612e-03+1.8160392e-05j],\n",
       "       [ 2.4520983e-03+0.0000000e+00j,  1.2346158e-03+0.0000000e+00j,\n",
       "        -4.7971284e-06+0.0000000e+00j, ...,\n",
       "        -4.4534283e-07+0.0000000e+00j,  1.4896854e-03+0.0000000e+00j,\n",
       "         2.9629022e-03+0.0000000e+00j]], dtype=complex64)"
      ]
     },
     "execution_count": 25,
     "metadata": {},
     "output_type": "execute_result"
    }
   ],
   "source": [
    "coeffs"
   ]
  },
  {
   "cell_type": "code",
   "execution_count": 26,
   "metadata": {},
   "outputs": [
    {
     "data": {
      "text/plain": [
       "array([[-2.19692869e-04+0.0000000e+00j,  6.25014945e-04+0.0000000e+00j,\n",
       "         2.45093880e-03+0.0000000e+00j, ...,\n",
       "        -9.81527939e-03+0.0000000e+00j, -5.30591700e-04+0.0000000e+00j,\n",
       "         2.85857869e-03+0.0000000e+00j],\n",
       "       [-4.21637640e-04+2.9261959e-05j,  1.25417742e-03+4.1377000e-03j,\n",
       "         8.77997663e-04-3.3612500e-03j, ...,\n",
       "         3.89209180e-03+7.0631143e-04j, -1.35651277e-03+2.5718592e-03j,\n",
       "        -2.55861203e-03-6.4563740e-04j],\n",
       "       [ 1.47187657e-05-1.1308646e-03j, -1.77633180e-03-2.7862319e-03j,\n",
       "        -3.03893141e-03+3.8255930e-03j, ...,\n",
       "         1.70364883e-03+1.1462708e-03j,  2.37039221e-03-9.9327776e-04j,\n",
       "         2.52100895e-03+9.9459756e-04j],\n",
       "       ...,\n",
       "       [-3.55063821e-06+1.2406130e-08j, -5.13824716e-08+1.6177458e-08j,\n",
       "         1.17953896e-07+2.5054243e-08j, ...,\n",
       "         1.27001165e-08-8.3479632e-09j,  6.85184220e-09-7.2261946e-10j,\n",
       "        -1.11542276e-05-7.0759960e-08j],\n",
       "       [ 3.54272061e-06-1.1981451e-08j, -4.57764884e-08+3.3419036e-09j,\n",
       "         9.32786932e-08+9.7683657e-09j, ...,\n",
       "         1.37892702e-08-3.4680241e-09j,  3.41287620e-09-1.4458085e-09j,\n",
       "         1.11727204e-05+3.4823216e-08j],\n",
       "       [-3.53384848e-06+0.0000000e+00j, -4.40258461e-08+0.0000000e+00j,\n",
       "         8.62911094e-08+0.0000000e+00j, ...,\n",
       "         1.34323050e-08+0.0000000e+00j,  6.45009157e-09+0.0000000e+00j,\n",
       "        -1.11962636e-05+0.0000000e+00j]], dtype=complex64)"
      ]
     },
     "execution_count": 26,
     "metadata": {},
     "output_type": "execute_result"
    }
   ],
   "source": [
    "spectral_frames"
   ]
  },
  {
   "cell_type": "code",
   "execution_count": null,
   "metadata": {},
   "outputs": [],
   "source": []
  }
 ],
 "metadata": {
  "kernelspec": {
   "display_name": "Python 3",
   "language": "python",
   "name": "python3"
  },
  "language_info": {
   "codemirror_mode": {
    "name": "ipython",
    "version": 3
   },
   "file_extension": ".py",
   "mimetype": "text/x-python",
   "name": "python",
   "nbconvert_exporter": "python",
   "pygments_lexer": "ipython3",
   "version": "3.6.5"
  }
 },
 "nbformat": 4,
 "nbformat_minor": 2
}
